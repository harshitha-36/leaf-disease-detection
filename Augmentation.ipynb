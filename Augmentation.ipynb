{
 "cells": [
  {
   "cell_type": "code",
   "execution_count": 6,
   "id": "e9943645-a674-4b52-815c-821d711d29f7",
   "metadata": {},
   "outputs": [],
   "source": [
    "from tensorflow.keras.preprocessing.image import ImageDataGenerator, array_to_img, img_to_array, load_img\n",
    "import os\n",
    "\n",
    "datagen = ImageDataGenerator(\n",
    "        rotation_range=40,\n",
    "        width_shift_range=0.2,\n",
    "        height_shift_range=0.2,\n",
    "        shear_range=0.2,\n",
    "        zoom_range=0.2,\n",
    "        horizontal_flip=True,\n",
    "        fill_mode='nearest')\n",
    "\n",
    "# Get the list of all image files in the folder\n",
    "folder_path = r\"E:\\Coconut_trees\\Sooty_Mold\"\n",
    "image_files = [f for f in os.listdir(folder_path) if os.path.isfile(os.path.join(folder_path, f))]\n",
    "\n",
    "for image_file in image_files:\n",
    "    img_path = os.path.join(folder_path, image_file)\n",
    "    img = load_img(img_path) \n",
    "    x = img_to_array(img) \n",
    "    x = x.reshape((1,) + x.shape) \n",
    "\n",
    "    i = 0\n",
    "    for batch in datagen.flow(x, batch_size=1,\n",
    "                              save_to_dir=r\"E:\\Sooty_mold\\Sooty_mold\", \n",
    "                              save_prefix=image_file.split('.')[0],  # Use the original filename as prefix\n",
    "                              save_format='jpeg'):\n",
    "        i += 1\n",
    "        if i > 25:\n",
    "            break"
   ]
  },
  {
   "cell_type": "code",
   "execution_count": null,
   "id": "7a94c1b8-161f-4af9-8710-15d2bc7f4809",
   "metadata": {},
   "outputs": [],
   "source": [
    "\"E:\\Coconut_trees\\normal\""
   ]
  },
  {
   "cell_type": "code",
   "execution_count": 7,
   "id": "c15251a0-7d7c-497a-bf1d-c4c39d666870",
   "metadata": {},
   "outputs": [],
   "source": [
    "from tensorflow.keras.preprocessing.image import ImageDataGenerator, array_to_img, img_to_array, load_img\n",
    "import os\n",
    "\n",
    "datagen = ImageDataGenerator(\n",
    "        rotation_range=40,\n",
    "        width_shift_range=0.2,\n",
    "        height_shift_range=0.2,\n",
    "        shear_range=0.2,\n",
    "        zoom_range=0.2,\n",
    "        horizontal_flip=True,\n",
    "        fill_mode='nearest')\n",
    "\n",
    "# Get the list of all image files in the folder\n",
    "folder_path = r\"E:\\Coconut_trees\\normal\"\n",
    "image_files = [f for f in os.listdir(folder_path) if os.path.isfile(os.path.join(folder_path, f))]\n",
    "\n",
    "for image_file in image_files:\n",
    "    img_path = os.path.join(folder_path, image_file)\n",
    "    img = load_img(img_path) \n",
    "    x = img_to_array(img) \n",
    "    x = x.reshape((1,) + x.shape) \n",
    "\n",
    "    i = 0\n",
    "    for batch in datagen.flow(x, batch_size=1,\n",
    "                              save_to_dir=r\"E:\\Sooty_mold\\Normal\", \n",
    "                              save_prefix=image_file.split('.')[0],  # Use the original filename as prefix\n",
    "                              save_format='jpeg'):\n",
    "        i += 1\n",
    "        if i > 30:\n",
    "            break"
   ]
  },
  {
   "cell_type": "code",
   "execution_count": null,
   "id": "7c12ba40-219b-4b93-b066-62ecaec6d54b",
   "metadata": {},
   "outputs": [],
   "source": []
  }
 ],
 "metadata": {
  "kernelspec": {
   "display_name": "Python 3 (ipykernel)",
   "language": "python",
   "name": "python3"
  },
  "language_info": {
   "codemirror_mode": {
    "name": "ipython",
    "version": 3
   },
   "file_extension": ".py",
   "mimetype": "text/x-python",
   "name": "python",
   "nbconvert_exporter": "python",
   "pygments_lexer": "ipython3",
   "version": "3.12.4"
  }
 },
 "nbformat": 4,
 "nbformat_minor": 5
}
